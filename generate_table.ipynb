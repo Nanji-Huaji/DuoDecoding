{
 "cells": [
  {
   "cell_type": "code",
   "execution_count": 5,
   "id": "7cf3dd51",
   "metadata": {},
   "outputs": [
    {
     "name": "stdout",
     "output_type": "stream",
     "text": [
      "\n",
      "| 方法 | 挂钟时间 (秒) | Forward 次数 | 生成 Token 数 | Token 输出速率 (token/秒) | 通信时间 (秒) | Edge-Cloud 数据传输量 (MB) | 通信能量 (焦耳) |\n",
      "|------|-------------|--------------|--------------|------------------------|-------------|--------------------------|---------------|\n",
      "| **Dist Split Spec** | 614.8236771930765 | 5327 | 20480 | 33.310363214213936 | 3.759644722373352 | 2.54 | 1.879822361186676 |\n",
      "| **Dist Spec** | 683.575611573428 | 5327 | 20480 | 29.960109245062043 | 54.13051904413112 | 36.6 | 27.06525952206556 |\n",
      "| **Uncertainty Decoding** | 677.6719210541555 | 577 | 20480 | 30.221113438110653 | 3.8512530854054905 | 26.04 | 1.9256265427027452 |\n",
      "| **Tridecoding** | 882.8735454999838 | 4605 | 21305 | 24.131428683747316 | 6.633795622054229 | 3.9 | 3.316897811027124 |\n",
      "\n"
     ]
    }
   ],
   "source": [
    "import json\n",
    "\n",
    "table_template = \"\"\"\n",
    "| 方法 | 挂钟时间 (秒) | Forward 次数 | 生成 Token 数 | Token 输出速率 (token/秒) | 通信时间 (秒) | Edge-Cloud 数据传输量 (MB) | 通信能量 (焦耳) |\n",
    "|------|-------------|--------------|--------------|------------------------|-------------|--------------------------|---------------|\n",
    "| **Dist Split Spec** | {DSSD_wall_time} | {DSSD_forward_times} | {DSSD_generated_tokens} | {DSSD_throughput} | {DSSD_communication_time} | {DSSD_edge_cloud_data_mb} | {DSSD_comm_energy} |\n",
    "| **Dist Spec** | {DSD_wall_time} | {DSD_forward_times} | {DSD_generated_tokens} | {DSD_throughput} | {DSD_communication_time} | {DSD_edge_cloud_data_mb} | {DSD_comm_energy} |\n",
    "| **Uncertainty Decoding** | {UD_wall_time} | {UD_forward_times} | {UD_generated_tokens} | {UD_throughput} | {UD_communication_time} | {UD_edge_cloud_data_mb} | {UD_comm_energy} |\n",
    "| **Tridecoding** | {TD_wall_time} | {TD_forward_times} | {TD_generated_tokens} | {TD_throughput} | {TD_communication_time} | {TD_edge_cloud_data_mb} | {TD_comm_energy} |\n",
    "\"\"\"\n",
    "\n",
    "file_path = \"experiment_summary_20250919_112050.json\"\n",
    "\n",
    "with open(file_path, \"r\") as f:\n",
    "    data = json.load(f)\n",
    "\n",
    "dssd_data, dsd_data, ud_data, td_data = {}, {}, {}, {}\n",
    "\n",
    "for item in data:\n",
    "    method = item[\"exp_name\"]\n",
    "    if \"dist_split_spec\" in method:\n",
    "        dssd_data = item\n",
    "    elif \"dist_spec\" in method:\n",
    "        dsd_data = item\n",
    "    elif \"uncertainty_decoding\" in method:\n",
    "        ud_data = item\n",
    "    elif \"tridecoding\" in method:\n",
    "        td_data = item\n",
    "\n",
    "def bytes_to_mb(val):\n",
    "    return round(val / 1024 / 1024, 2) if isinstance(val, (int, float)) else \"N/A\"\n",
    "\n",
    "table = table_template.format(\n",
    "    DSSD_wall_time=dssd_data[\"result\"].get(\"wall_time\", \"N/A\"),\n",
    "    DSSD_forward_times=dssd_data[\"result\"].get(\"target_forward_times\", \"N/A\"),\n",
    "    DSSD_generated_tokens=dssd_data[\"result\"].get(\"generated_tokens\", \"N/A\"),\n",
    "    DSSD_throughput=dssd_data[\"result\"].get(\"throughput\", \"N/A\"),\n",
    "    DSSD_communication_time=dssd_data[\"result\"].get(\"communication_time\", \"N/A\"),\n",
    "    DSSD_edge_cloud_data_mb=bytes_to_mb(dssd_data[\"result\"].get(\"edge_cloud_data_bytes\", \"N/A\")),\n",
    "    DSSD_comm_energy=dssd_data[\"result\"].get(\"comm_energy\", \"N/A\"),\n",
    "    DSD_wall_time=dsd_data[\"result\"].get(\"wall_time\", \"N/A\"),\n",
    "    DSD_forward_times=dsd_data[\"result\"].get(\"target_forward_times\", \"N/A\"),\n",
    "    DSD_generated_tokens=dsd_data[\"result\"].get(\"generated_tokens\", \"N/A\"),\n",
    "    DSD_throughput=dsd_data[\"result\"].get(\"throughput\", \"N/A\"),\n",
    "    DSD_communication_time=dsd_data[\"result\"].get(\"communication_time\", \"N/A\"),\n",
    "    DSD_edge_cloud_data_mb=bytes_to_mb(dsd_data[\"result\"].get(\"edge_cloud_data_bytes\", \"N/A\")),\n",
    "    DSD_comm_energy=dsd_data[\"result\"].get(\"comm_energy\", \"N/A\"),\n",
    "    UD_wall_time=ud_data[\"result\"].get(\"wall_time\", \"N/A\"),\n",
    "    UD_forward_times=ud_data[\"result\"].get(\"target_forward_times\", \"N/A\"),\n",
    "    UD_generated_tokens=ud_data[\"result\"].get(\"generated_tokens\", \"N/A\"),\n",
    "    UD_throughput=ud_data[\"result\"].get(\"throughput\", \"N/A\"),\n",
    "    UD_communication_time=ud_data[\"result\"].get(\"communication_time\", \"N/A\"),\n",
    "    UD_edge_cloud_data_mb=bytes_to_mb(ud_data[\"result\"].get(\"edge_cloud_data_bytes\", \"N/A\")),\n",
    "    UD_comm_energy=ud_data[\"result\"].get(\"comm_energy\", \"N/A\"),\n",
    "    TD_wall_time=td_data[\"result\"].get(\"wall_time\", \"N/A\"),\n",
    "    TD_forward_times=td_data[\"result\"].get(\"target_forward_times\", \"N/A\"),\n",
    "    TD_generated_tokens=td_data[\"result\"].get(\"generated_tokens\", \"N/A\"),\n",
    "    TD_throughput=td_data[\"result\"].get(\"throughput\", \"N/A\"),\n",
    "    TD_communication_time=td_data[\"result\"].get(\"communication_time\", \"N/A\"),\n",
    "    TD_edge_cloud_data_mb=bytes_to_mb(td_data[\"result\"].get(\"edge_cloud_data_bytes\", \"N/A\")),\n",
    "    TD_comm_energy=td_data[\"result\"].get(\"comm_energy\", \"N/A\"),\n",
    ")\n",
    "\n",
    "print(table)"
   ]
  },
  {
   "cell_type": "markdown",
   "id": "28ed8750",
   "metadata": {},
   "source": [
    "\n",
    "\n",
    "| 方法 | 挂钟时间 (秒) | Forward 次数 | 生成 Token 数 | Token 输出速率 (token/秒) | 通信时间 (秒) | Edge-Cloud 数据传输量 (MB) | 通信能量 (焦耳) |\n",
    "|------|-------------|--------------|--------------|------------------------|-------------|--------------------------|---------------|\n",
    "| **Dist Split Spec** | 874.9531330036236 | 5327 | 20480 | 23.406968016325948 | 268.83964472237307 | 2.54 | 134.41982236118653 |\n",
    "| **Dist Spec** | 854.8715451671778 | 5327 | 20480 | 23.956815635961952 | 234.62051904413104 | 36.6 | 117.31025952206552 |\n",
    "| **Uncertainty Decoding** | 991.2522008393123 | 577 | 20480 | 20.66073596876677 | 316.9112530854054 | 26.04 | 158.4556265427027 |\n",
    "| **Tridecoding** | 1339.6341556074049 | 4605 | 21305 | 15.903595702470037 | 451.6587956220537 | 3.9 | 225.82939781102795 |\n"
   ]
  }
 ],
 "metadata": {
  "kernelspec": {
   "display_name": "duodec",
   "language": "python",
   "name": "python3"
  },
  "language_info": {
   "codemirror_mode": {
    "name": "ipython",
    "version": 3
   },
   "file_extension": ".py",
   "mimetype": "text/x-python",
   "name": "python",
   "nbconvert_exporter": "python",
   "pygments_lexer": "ipython3",
   "version": "3.10.18"
  }
 },
 "nbformat": 4,
 "nbformat_minor": 5
}
